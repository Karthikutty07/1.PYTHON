{
 "cells": [
  {
   "cell_type": "code",
   "execution_count": 1,
   "id": "e39ef20a-6b2d-4072-96f9-e4f7d6c51b66",
   "metadata": {},
   "outputs": [],
   "source": [
    "class FindPercent():\n",
    "    def percentage():\n",
    "        sub1=98\n",
    "        print(\"Subject1=\",sub1)\n",
    "        sub2=87\n",
    "        print(\"Subject2=\",sub2)\n",
    "        sub3=95\n",
    "        print(\"Subject3=\",sub3)\n",
    "        sub4=95\n",
    "        print(\"Subject4=\",sub4)\n",
    "        sub5=93\n",
    "        print(\"Subject5=\",sub5)\n",
    "        Total=sub1+sub2+sub3+sub4+sub5\n",
    "        print(\"Total  :\",Total)\n",
    "        print(\"percentage :\",Total/500*100)"
   ]
  },
  {
   "cell_type": "code",
   "execution_count": 2,
   "id": "907fc772-0361-4988-922b-df89781db5ce",
   "metadata": {},
   "outputs": [
    {
     "name": "stdout",
     "output_type": "stream",
     "text": [
      "Subject1= 98\n",
      "Subject2= 87\n",
      "Subject3= 95\n",
      "Subject4= 95\n",
      "Subject5= 93\n",
      "Total  : 468\n",
      "percentage : 93.60000000000001\n"
     ]
    }
   ],
   "source": [
    "FindPercent.percentage()"
   ]
  },
  {
   "cell_type": "code",
   "execution_count": null,
   "id": "5e1e743f-fe2c-486f-92e2-dc4fd0c4db0d",
   "metadata": {},
   "outputs": [],
   "source": []
  }
 ],
 "metadata": {
  "kernelspec": {
   "display_name": "Python 3 (ipykernel)",
   "language": "python",
   "name": "python3"
  },
  "language_info": {
   "codemirror_mode": {
    "name": "ipython",
    "version": 3
   },
   "file_extension": ".py",
   "mimetype": "text/x-python",
   "name": "python",
   "nbconvert_exporter": "python",
   "pygments_lexer": "ipython3",
   "version": "3.11.7"
  }
 },
 "nbformat": 4,
 "nbformat_minor": 5
}
