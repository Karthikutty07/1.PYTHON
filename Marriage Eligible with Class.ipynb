{
 "cells": [
  {
   "cell_type": "code",
   "execution_count": 2,
   "id": "e0710d23-ad36-4f46-b01c-94336d5ba4fe",
   "metadata": {},
   "outputs": [],
   "source": [
    "class EligiblityForMarriage():\n",
    "    def Eligible():\n",
    "        Gender=(input(\"Your Gender:\"))\n",
    "        Age=int(input(\"Your Age:\"))    \n",
    "        if(Gender==\"Male\"):\n",
    "            if(Age>=21):\n",
    "                print(\"Eligible\")\n",
    "            else:\n",
    "                print(\"Not Eligible\")\n",
    "        elif(Gender==\"Female\"):\n",
    "            if(Age>=18):\n",
    "                print(\"Eligible\")\n",
    "            else:\n",
    "                print(\"Not Eligible\")"
   ]
  },
  {
   "cell_type": "code",
   "execution_count": 4,
   "id": "eda941e8-143a-44e5-86e0-fbcb03f6a107",
   "metadata": {},
   "outputs": [
    {
     "name": "stdin",
     "output_type": "stream",
     "text": [
      "Your Gender: Male\n",
      "Your Age: 20\n"
     ]
    },
    {
     "name": "stdout",
     "output_type": "stream",
     "text": [
      "Not Eligible\n"
     ]
    }
   ],
   "source": [
    "EligiblityForMarriage.Eligible()"
   ]
  },
  {
   "cell_type": "code",
   "execution_count": null,
   "id": "886b86c2-46d6-483f-a3cb-b7ed90de62a1",
   "metadata": {},
   "outputs": [],
   "source": []
  }
 ],
 "metadata": {
  "kernelspec": {
   "display_name": "Python 3 (ipykernel)",
   "language": "python",
   "name": "python3"
  },
  "language_info": {
   "codemirror_mode": {
    "name": "ipython",
    "version": 3
   },
   "file_extension": ".py",
   "mimetype": "text/x-python",
   "name": "python",
   "nbconvert_exporter": "python",
   "pygments_lexer": "ipython3",
   "version": "3.11.7"
  }
 },
 "nbformat": 4,
 "nbformat_minor": 5
}
