{
 "cells": [
  {
   "cell_type": "code",
   "execution_count": 9,
   "id": "83c217d9-ea37-4b4c-a9ea-c1a95bfe8179",
   "metadata": {},
   "outputs": [],
   "source": [
    "def Eligible():\n",
    "    Gender=(input(\"Your Gender:\"))\n",
    "    Age=int(input(\"Your Age:\"))    \n",
    "    if(Gender==\"Male\"):\n",
    "        if(Age>=21):\n",
    "            print(\"Eligible\")\n",
    "        else:\n",
    "            print(\"Not Eligible\")\n",
    "    elif(Gender==\"Female\"):\n",
    "        if(Age>=18):\n",
    "            print(\"Eligible\")\n",
    "        else:\n",
    "            print(\"Not Eligible\")\n",
    "        "
   ]
  },
  {
   "cell_type": "code",
   "execution_count": 12,
   "id": "ebbaae4c-3793-4a9e-8d7e-87bdf796ef0d",
   "metadata": {},
   "outputs": [
    {
     "name": "stdin",
     "output_type": "stream",
     "text": [
      "Your Gender: Male\n",
      "Your Age: 18\n"
     ]
    },
    {
     "name": "stdout",
     "output_type": "stream",
     "text": [
      "Not Eligible\n"
     ]
    }
   ],
   "source": [
    "Eligible()"
   ]
  },
  {
   "cell_type": "code",
   "execution_count": null,
   "id": "683f5bfc-0a8a-47c8-85f0-2e5acb2e8613",
   "metadata": {},
   "outputs": [],
   "source": []
  }
 ],
 "metadata": {
  "kernelspec": {
   "display_name": "Python 3 (ipykernel)",
   "language": "python",
   "name": "python3"
  },
  "language_info": {
   "codemirror_mode": {
    "name": "ipython",
    "version": 3
   },
   "file_extension": ".py",
   "mimetype": "text/x-python",
   "name": "python",
   "nbconvert_exporter": "python",
   "pygments_lexer": "ipython3",
   "version": "3.11.7"
  }
 },
 "nbformat": 4,
 "nbformat_minor": 5
}
