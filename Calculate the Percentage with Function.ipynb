{
 "cells": [
  {
   "cell_type": "code",
   "execution_count": 15,
   "id": "930a2963-5049-450f-90ef-978843470723",
   "metadata": {},
   "outputs": [],
   "source": [
    "def percentage():\n",
    "    sub1=23\n",
    "    print(\"Subject1=\",sub1)\n",
    "    sub2=45\n",
    "    print(\"Subject2=\",sub2)\n",
    "    sub3=34\n",
    "    print(\"Subject3=\",sub3)\n",
    "    sub4=23\n",
    "    print(\"Subject4=\",sub4)\n",
    "    sub5=23\n",
    "    print(\"Subject5=\",sub5)\n",
    "    Total=sub1+sub2+sub3+sub4+sub5\n",
    "    print(\"Total  :\",Total)\n",
    "    print(\"percentage :\",Total/500*100)"
   ]
  },
  {
   "cell_type": "code",
   "execution_count": 16,
   "id": "8b68a2cf-590d-473c-8688-59e7a45ba19b",
   "metadata": {},
   "outputs": [
    {
     "name": "stdout",
     "output_type": "stream",
     "text": [
      "Subject1= 23\n",
      "Subject2= 45\n",
      "Subject3= 34\n",
      "Subject4= 23\n",
      "Subject5= 23\n",
      "Total  : 148\n",
      "percentage : 29.599999999999998\n"
     ]
    }
   ],
   "source": [
    "percentage()"
   ]
  },
  {
   "cell_type": "code",
   "execution_count": null,
   "id": "c74d17c8-a3a6-4cb2-8c23-77eddd6f8f84",
   "metadata": {},
   "outputs": [],
   "source": []
  }
 ],
 "metadata": {
  "kernelspec": {
   "display_name": "Python 3 (ipykernel)",
   "language": "python",
   "name": "python3"
  },
  "language_info": {
   "codemirror_mode": {
    "name": "ipython",
    "version": 3
   },
   "file_extension": ".py",
   "mimetype": "text/x-python",
   "name": "python",
   "nbconvert_exporter": "python",
   "pygments_lexer": "ipython3",
   "version": "3.11.7"
  }
 },
 "nbformat": 4,
 "nbformat_minor": 5
}
