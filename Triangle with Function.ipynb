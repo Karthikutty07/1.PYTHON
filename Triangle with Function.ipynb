{
 "cells": [
  {
   "cell_type": "code",
   "execution_count": 5,
   "id": "47fe678e-f79d-48b9-ac52-4acf399f3bfd",
   "metadata": {},
   "outputs": [],
   "source": [
    "def triangle():\n",
    "    Height=3\n",
    "    print(\"Height:\",Height)\n",
    "    Breadth=4\n",
    "    print(\"Breadth:\",Breadth)\n",
    "    Area=Height*Breadth/2\n",
    "    print(\"Area of Triangle:\",Area)\n",
    "    Height1=3\n",
    "    print(\"Height1:\",Height1)\n",
    "    Height2=4\n",
    "    print(\"Height2:\",Height2)\n",
    "    Breadth=45\n",
    "    print(\"Breadth:\",Breadth)\n",
    "    Perimeter=Height1+Height2+Breadth\n",
    "    print(\"Perimeter of Triangle:\",Perimeter)"
   ]
  },
  {
   "cell_type": "code",
   "execution_count": 6,
   "id": "a1546f77-4bcf-4fa7-8cc4-f131bde3ca34",
   "metadata": {},
   "outputs": [
    {
     "name": "stdout",
     "output_type": "stream",
     "text": [
      "Height: 3\n",
      "Breadth: 4\n",
      "Area of Triangle: 6.0\n",
      "Height1: 3\n",
      "Height2: 4\n",
      "Breadth: 45\n",
      "Perimeter of Triangle: 52\n"
     ]
    }
   ],
   "source": [
    "triangle()"
   ]
  },
  {
   "cell_type": "code",
   "execution_count": null,
   "id": "1497b50d-1611-44b8-949d-15e62e38a6bc",
   "metadata": {},
   "outputs": [],
   "source": []
  }
 ],
 "metadata": {
  "kernelspec": {
   "display_name": "Python 3 (ipykernel)",
   "language": "python",
   "name": "python3"
  },
  "language_info": {
   "codemirror_mode": {
    "name": "ipython",
    "version": 3
   },
   "file_extension": ".py",
   "mimetype": "text/x-python",
   "name": "python",
   "nbconvert_exporter": "python",
   "pygments_lexer": "ipython3",
   "version": "3.11.7"
  }
 },
 "nbformat": 4,
 "nbformat_minor": 5
}
